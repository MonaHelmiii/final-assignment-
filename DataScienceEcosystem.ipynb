{
 "cells": [
  {
   "cell_type": "markdown",
   "id": "e9b7a475-5551-47dc-aee2-f3e85959d108",
   "metadata": {},
   "source": [
    "# DataScience Ecosystem"
   ]
  },
  {
   "cell_type": "markdown",
   "id": "a6c75b54-577a-4d7f-95fe-cb86de027082",
   "metadata": {},
   "source": [
    "*Objectives:*"
   ]
  },
  {
   "cell_type": "markdown",
   "id": "cdd2fdf7-8ea3-4737-88c2-c3b111565b6f",
   "metadata": {},
   "source": [
    " * List popular languages for Data Science \n",
    " * list some data science open sources \n",
    " * get more introduced to Jupterlab and rstudio"
   ]
  },
  {
   "cell_type": "markdown",
   "id": "173a1614-39f7-41e1-983a-86ec55babc37",
   "metadata": {},
   "source": [
    "In this notebook, Data Science Tools and Ecosystem are summarized."
   ]
  },
  {
   "cell_type": "markdown",
   "id": "76de1065-aa3b-485a-9c0e-0f8bf0252db0",
   "metadata": {},
   "source": [
    "Some of the popular languages that Data Scientists use are:"
   ]
  },
  {
   "cell_type": "markdown",
   "id": "ef1d4e8f-ee65-4661-84de-b0412c909699",
   "metadata": {
    "tags": []
   },
   "source": [
    "1. Python"
   ]
  },
  {
   "cell_type": "markdown",
   "id": "d1d94194-93ba-41f6-97c7-75bbbf831edd",
   "metadata": {},
   "source": [
    "2. R"
   ]
  },
  {
   "cell_type": "markdown",
   "id": "914eff3e-785c-4be6-9d64-11eb3b76bf5d",
   "metadata": {},
   "source": [
    "3. Java"
   ]
  },
  {
   "cell_type": "markdown",
   "id": "55e79fa8-3609-415c-b1dd-07cb6191976b",
   "metadata": {},
   "source": [
    "Some of the commonly used libraries used by Data Scientists include:"
   ]
  },
  {
   "cell_type": "markdown",
   "id": "1dfc156e-2a4f-4217-beab-be80296d8bee",
   "metadata": {},
   "source": [
    "1.NumPy"
   ]
  },
  {
   "cell_type": "markdown",
   "id": "a93cbe34-30db-4a0e-8923-ab4c6b614bc4",
   "metadata": {},
   "source": [
    "2.Pandas"
   ]
  },
  {
   "cell_type": "markdown",
   "id": "9e18c26e-6469-4607-83b5-7682a1d91119",
   "metadata": {},
   "source": [
    "3.Matplotlib"
   ]
  },
  {
   "cell_type": "markdown",
   "id": "f2881779-258d-46f5-bcdb-d49aea166a23",
   "metadata": {},
   "source": [
    "|Data Science Tools|\n",
    "|---|\n",
    "|Jupyterlab|\n",
    "|Google cloud platform|\n",
    "|Anaconda|"
   ]
  },
  {
   "cell_type": "markdown",
   "id": "6023d5f5-0970-42ad-b5e4-c7abff6ae216",
   "metadata": {},
   "source": [
    "### Below are a few examples of evaluating arithmetic expressions in Python"
   ]
  },
  {
   "cell_type": "markdown",
   "id": "37f6177c-e161-4340-ab6f-b4daad81a555",
   "metadata": {},
   "source": [
    "This a simple arithmetic expression to mutiply then add integers"
   ]
  },
  {
   "cell_type": "code",
   "execution_count": 51,
   "id": "e51f72ec-369b-44a9-8bf4-45794f0cf501",
   "metadata": {},
   "outputs": [
    {
     "data": {
      "text/plain": [
       "17"
      ]
     },
     "execution_count": 51,
     "metadata": {},
     "output_type": "execute_result"
    }
   ],
   "source": [
    "(3*4)+5"
   ]
  },
  {
   "cell_type": "markdown",
   "id": "4048e3cb-d1b5-444e-a6f3-2ea3f7901b88",
   "metadata": {},
   "source": [
    " This will convert 200 minutes to hours by diving by 60"
   ]
  },
  {
   "cell_type": "code",
   "execution_count": 56,
   "id": "eaf82f0b-136f-4c58-87c1-a268244078ad",
   "metadata": {},
   "outputs": [
    {
     "data": {
      "text/plain": [
       "(3, 20)"
      ]
     },
     "execution_count": 56,
     "metadata": {},
     "output_type": "execute_result"
    }
   ],
   "source": [
    "divmod(200,60)"
   ]
  },
  {
   "cell_type": "markdown",
   "id": "fc81b1fe-f14e-43b5-b96e-6eb00f5e5bf9",
   "metadata": {},
   "source": [
    "## Author"
   ]
  },
  {
   "cell_type": "markdown",
   "id": "3e855f87-a0d6-4822-9cb3-375f05bab36b",
   "metadata": {},
   "source": [
    "Mona Helmy"
   ]
  }
 ],
 "metadata": {
  "kernelspec": {
   "display_name": "anaconda-panel-2023.05-py310",
   "language": "python",
   "name": "conda-env-anaconda-panel-2023.05-py310-py"
  },
  "language_info": {
   "codemirror_mode": {
    "name": "ipython",
    "version": 3
   },
   "file_extension": ".py",
   "mimetype": "text/x-python",
   "name": "python",
   "nbconvert_exporter": "python",
   "pygments_lexer": "ipython3",
   "version": "3.11.4"
  }
 },
 "nbformat": 4,
 "nbformat_minor": 5
}
